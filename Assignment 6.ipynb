{
 "cells": [
  {
   "cell_type": "markdown",
   "id": "04d5f78d-6637-4abe-8356-41a16107e5f2",
   "metadata": {},
   "source": [
    "Q1. Explain Class and Object with respect to Object-Oriented Programming. Give a suitable example."
   ]
  },
  {
   "cell_type": "code",
   "execution_count": 1,
   "id": "38b77c9e-6e3b-42ea-8f79-0debfd58fcb9",
   "metadata": {},
   "outputs": [],
   "source": [
    "'''class is an blueprint for creating object'''\n",
    "class test:\n",
    "    \n",
    "    def __init__(self,a,b):\n",
    "        self.a = a\n",
    "        self.b = b"
   ]
  },
  {
   "cell_type": "code",
   "execution_count": 3,
   "id": "a027d978-9676-41c9-abdd-6a89d6e0322f",
   "metadata": {},
   "outputs": [],
   "source": [
    "'''An object is an instantiation of a class. When class is defined, a template(info) is defined.\n",
    "Memory is allocated only after object instantiation.'''\n",
    "a = test(5,6)"
   ]
  },
  {
   "cell_type": "markdown",
   "id": "7688d1e6-8604-4640-9275-5f5ec64efa71",
   "metadata": {},
   "source": [
    "Q2. Name the four pillars of OOPs"
   ]
  },
  {
   "cell_type": "markdown",
   "id": "72a81ced-d1ff-4dfa-a66f-c7b2c8026ff1",
   "metadata": {},
   "source": [
    "The four pillars are Inheritance, Polymorphism, Encapsulation and Abstraction.\n"
   ]
  },
  {
   "cell_type": "markdown",
   "id": "33ae5ba7-986c-4908-b3d8-5886ecac025c",
   "metadata": {},
   "source": [
    "Q3. Explain why the __init__() function is used. Give a suitable example."
   ]
  },
  {
   "cell_type": "code",
   "execution_count": 4,
   "id": "6d68460d-f605-415f-b5c3-5cc641768e0d",
   "metadata": {},
   "outputs": [],
   "source": [
    "#init() is used to initialize object attributes\n",
    "class marks:\n",
    "    def __init__(self,marks):\n",
    "        self.marks = marks"
   ]
  },
  {
   "cell_type": "code",
   "execution_count": 5,
   "id": "2f2671db-c14d-42bf-8b9f-35c888c700b8",
   "metadata": {},
   "outputs": [
    {
     "data": {
      "text/plain": [
       "<__main__.marks at 0x7f1024c16920>"
      ]
     },
     "execution_count": 5,
     "metadata": {},
     "output_type": "execute_result"
    }
   ],
   "source": [
    "marks(89)"
   ]
  },
  {
   "cell_type": "markdown",
   "id": "349d0af9-0d2c-4b54-83d4-d74a73e7b370",
   "metadata": {},
   "source": [
    "Q4. Why self is used in OOPs?                                                    \n",
    "self is used to refer the instance of the class"
   ]
  },
  {
   "cell_type": "markdown",
   "id": "934cbe45-be59-4b27-9e72-fb874a2d648f",
   "metadata": {},
   "source": [
    " What is inheritance in Python?Explain types of inheritance with an example?                                           \n",
    "\n",
    " Inheritance allows us to define a class that inherits all the methods and properties from another class. Parent class is the class being inherited from, also called base class. Child class is the class that inherits from another class, also called derived class."
   ]
  },
  {
   "cell_type": "code",
   "execution_count": 1,
   "id": "6c14ca32-c14b-4fbc-b8e5-a2795217cd71",
   "metadata": {},
   "outputs": [],
   "source": [
    "# single inheritace\n",
    "class test:\n",
    "    \n",
    "    def test_meth(self):\n",
    "        return \"this is my first class\""
   ]
  },
  {
   "cell_type": "code",
   "execution_count": 2,
   "id": "c90b2094-2dda-4944-849e-597e2a0b2dfa",
   "metadata": {},
   "outputs": [],
   "source": [
    "class child_test(test):\n",
    "    pass"
   ]
  },
  {
   "cell_type": "code",
   "execution_count": 3,
   "id": "430b17d1-0fba-467a-9ed2-a27e0420ce37",
   "metadata": {},
   "outputs": [],
   "source": [
    "child_test_obj = child_test()"
   ]
  },
  {
   "cell_type": "code",
   "execution_count": 4,
   "id": "39c72c6f-e92e-4461-8b9e-20477b54daa0",
   "metadata": {},
   "outputs": [
    {
     "data": {
      "text/plain": [
       "'this is my first class'"
      ]
     },
     "execution_count": 4,
     "metadata": {},
     "output_type": "execute_result"
    }
   ],
   "source": [
    "child_test_obj.test_meth()"
   ]
  },
  {
   "cell_type": "code",
   "execution_count": 5,
   "id": "df92e147-5c43-46b6-aead-fe21b0008e5e",
   "metadata": {},
   "outputs": [],
   "source": [
    "#multi label inheritance\n",
    "class class1:\n",
    "    def test_class1(self):\n",
    "        return \"This is a method from class1\""
   ]
  },
  {
   "cell_type": "code",
   "execution_count": 6,
   "id": "a11d227d-4a1f-4b27-b2ab-3e9dc62fe464",
   "metadata": {},
   "outputs": [],
   "source": [
    "class class2(class1):\n",
    "    def test_class2(self):\n",
    "        return 'This is a method from class2'"
   ]
  },
  {
   "cell_type": "code",
   "execution_count": 7,
   "id": "b2dfc040-6dee-4ac7-8f7e-5c39df328e9c",
   "metadata": {},
   "outputs": [],
   "source": [
    "class class3(class2):\n",
    "    pass"
   ]
  },
  {
   "cell_type": "code",
   "execution_count": 8,
   "id": "8cff37d5-35f0-4037-98e1-57bd5ded4f34",
   "metadata": {},
   "outputs": [],
   "source": [
    "obj_class3 = class3()"
   ]
  },
  {
   "cell_type": "code",
   "execution_count": 9,
   "id": "49831717-5c3c-4234-8ca9-dc66b30fa6c6",
   "metadata": {},
   "outputs": [
    {
     "data": {
      "text/plain": [
       "'This is a method from class1'"
      ]
     },
     "execution_count": 9,
     "metadata": {},
     "output_type": "execute_result"
    }
   ],
   "source": [
    "obj_class3.test_class1()"
   ]
  },
  {
   "cell_type": "code",
   "execution_count": 10,
   "id": "df160611-5b43-4521-b159-909d96e1d9f2",
   "metadata": {},
   "outputs": [
    {
     "data": {
      "text/plain": [
       "'This is a method from class2'"
      ]
     },
     "execution_count": 10,
     "metadata": {},
     "output_type": "execute_result"
    }
   ],
   "source": [
    "obj_class3.test_class2()"
   ]
  },
  {
   "cell_type": "code",
   "execution_count": 11,
   "id": "e6a202be-d43a-4aa6-a77d-2a4580333724",
   "metadata": {},
   "outputs": [],
   "source": [
    "# multiple inheritance\n",
    "\n",
    "class class1:\n",
    "    def test_class1(self):\n",
    "        return \"this is a class1\"\n"
   ]
  },
  {
   "cell_type": "code",
   "execution_count": 12,
   "id": "88de1d43-a6b9-4d8c-884c-a14173e8ae46",
   "metadata": {},
   "outputs": [],
   "source": [
    "class class2:\n",
    "    def test_class2(self):\n",
    "        return \"this is a class2\""
   ]
  },
  {
   "cell_type": "code",
   "execution_count": 13,
   "id": "0de19573-c04e-4ff0-8334-d92cdfab485e",
   "metadata": {},
   "outputs": [],
   "source": [
    "class class3(class1,class2):\n",
    "    pass"
   ]
  },
  {
   "cell_type": "code",
   "execution_count": 14,
   "id": "1d089208-cb5b-4c3f-a76d-6bf350c97c77",
   "metadata": {},
   "outputs": [],
   "source": [
    "obj_class3 = class3()"
   ]
  },
  {
   "cell_type": "code",
   "execution_count": 16,
   "id": "3435e28f-30a0-4fec-86d9-37e2483212d7",
   "metadata": {},
   "outputs": [
    {
     "data": {
      "text/plain": [
       "'this is a class1'"
      ]
     },
     "execution_count": 16,
     "metadata": {},
     "output_type": "execute_result"
    }
   ],
   "source": [
    "obj_class3.test_class1()"
   ]
  },
  {
   "cell_type": "code",
   "execution_count": 17,
   "id": "14caee29-96f1-4134-a1af-44bf98075b74",
   "metadata": {},
   "outputs": [
    {
     "data": {
      "text/plain": [
       "'this is a class2'"
      ]
     },
     "execution_count": 17,
     "metadata": {},
     "output_type": "execute_result"
    }
   ],
   "source": [
    "obj_class3.test_class2()"
   ]
  },
  {
   "cell_type": "code",
   "execution_count": null,
   "id": "07159f0d-e026-4a59-aae6-50b8803bf4a3",
   "metadata": {},
   "outputs": [],
   "source": []
  }
 ],
 "metadata": {
  "kernelspec": {
   "display_name": "Python 3 (ipykernel)",
   "language": "python",
   "name": "python3"
  },
  "language_info": {
   "codemirror_mode": {
    "name": "ipython",
    "version": 3
   },
   "file_extension": ".py",
   "mimetype": "text/x-python",
   "name": "python",
   "nbconvert_exporter": "python",
   "pygments_lexer": "ipython3",
   "version": "3.10.8"
  }
 },
 "nbformat": 4,
 "nbformat_minor": 5
}
